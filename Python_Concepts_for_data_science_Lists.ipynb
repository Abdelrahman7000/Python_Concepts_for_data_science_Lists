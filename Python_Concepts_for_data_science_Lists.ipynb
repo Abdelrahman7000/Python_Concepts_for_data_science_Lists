{
 "cells": [
  {
   "cell_type": "code",
   "execution_count": 20,
   "id": "47aa054c",
   "metadata": {},
   "outputs": [
    {
     "name": "stdout",
     "output_type": "stream",
     "text": [
      "banana\n",
      "orange\n",
      "cherry\n"
     ]
    }
   ],
   "source": [
    "my_list=['banana','apple','orange','cherry']\n",
    "print(my_list[0])\n",
    "print(my_list[2])\n",
    "print(my_list[-1])"
   ]
  },
  {
   "cell_type": "code",
   "execution_count": 19,
   "id": "fe4d2a7d",
   "metadata": {},
   "outputs": [
    {
     "name": "stdout",
     "output_type": "stream",
     "text": [
      "['apple', 'orange', 'banana']\n",
      "['mango', 'apple', 'orange']\n"
     ]
    }
   ],
   "source": [
    "my_list=['mango','apple','orange','banana','cherry','melon']\n",
    "print(my_list[1:4])\n",
    "print(my_list[:3])"
   ]
  },
  {
   "cell_type": "code",
   "execution_count": 13,
   "id": "d146e38d",
   "metadata": {},
   "outputs": [
    {
     "name": "stdout",
     "output_type": "stream",
     "text": [
      "[1, 3, 5, 7, 9, 11, 13, 15, 17, 19]\n",
      "[2, 4, 6, 8, 10, 12, 14, 16, 18, 20]\n"
     ]
    }
   ],
   "source": [
    "nums=[1,2,3,4,5,6,7,8,9,10,11,12,13,14,15,16,17,18,19,20]\n",
    "odd_nums=[]\n",
    "even_nums=[]\n",
    "for i in nums:\n",
    "    if i %2==0:\n",
    "        even_nums.append(i)\n",
    "    else:\n",
    "        odd_nums.append(i)\n",
    "\n",
    "print(odd_nums)\n",
    "print(even_nums)"
   ]
  }
 ],
 "metadata": {
  "kernelspec": {
   "display_name": "Python 3",
   "language": "python",
   "name": "python3"
  },
  "language_info": {
   "codemirror_mode": {
    "name": "ipython",
    "version": 3
   },
   "file_extension": ".py",
   "mimetype": "text/x-python",
   "name": "python",
   "nbconvert_exporter": "python",
   "pygments_lexer": "ipython3",
   "version": "3.8.8"
  }
 },
 "nbformat": 4,
 "nbformat_minor": 5
}
